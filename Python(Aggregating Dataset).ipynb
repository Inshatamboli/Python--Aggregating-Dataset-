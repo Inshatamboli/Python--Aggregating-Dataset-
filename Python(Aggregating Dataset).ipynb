{
 "cells": [
  {
   "cell_type": "code",
   "execution_count": 6,
   "id": "9d90793e",
   "metadata": {},
   "outputs": [
    {
     "name": "stdout",
     "output_type": "stream",
     "text": [
      "     Unnamed: 0  Unnamed: 0.1   age anaemia  creatinine_phosphokinase  \\\n",
      "0             0             0  75.0      No                       582   \n",
      "1             1             1  55.0      No                      7861   \n",
      "2             2             2  65.0      No                       146   \n",
      "3             3             3  50.0     Yes                       111   \n",
      "4             4             4  65.0     Yes                       160   \n",
      "..          ...           ...   ...     ...                       ...   \n",
      "294         294           294  62.0      No                        61   \n",
      "295         295           295  55.0      No                      1820   \n",
      "296         296           296  45.0      No                      2060   \n",
      "297         297           297  45.0      No                      2413   \n",
      "298         298           298  50.0      No                       196   \n",
      "\n",
      "    diabetes  ejection_fraction high_blood_pressure  platelets  \\\n",
      "0         No                 20                 Yes  265000.00   \n",
      "1         No                 38                  No  263358.03   \n",
      "2         No                 20                  No  162000.00   \n",
      "3         No                 20                  No  210000.00   \n",
      "4        Yes                 20                  No  327000.00   \n",
      "..       ...                ...                 ...        ...   \n",
      "294      Yes                 38                 Yes  155000.00   \n",
      "295       No                 38                  No  270000.00   \n",
      "296      Yes                 60                  No  742000.00   \n",
      "297       No                 38                  No  140000.00   \n",
      "298       No                 45                  No  395000.00   \n",
      "\n",
      "     serum_creatinine  serum_sodium     sex smoking  time  DEATH_EVENT  \n",
      "0                 1.9           130    Male      No     4            1  \n",
      "1                 1.1           136    Male      No     6            1  \n",
      "2                 1.3           129    Male     Yes     7            1  \n",
      "3                 1.9           137    Male      No     7            1  \n",
      "4                 2.7           116  Female      No     8            1  \n",
      "..                ...           ...     ...     ...   ...          ...  \n",
      "294               1.1           143    Male     Yes   270            0  \n",
      "295               1.2           139  Female      No   271            0  \n",
      "296               0.8           138  Female      No   278            0  \n",
      "297               1.4           140    Male     Yes   280            0  \n",
      "298               1.6           136    Male     Yes   285            0  \n",
      "\n",
      "[299 rows x 15 columns]\n"
     ]
    }
   ],
   "source": [
    "import pandas as pd\n",
    "import numpy as np\n",
    "heart_failure=pd.read_csv('C:/Users/admin/OneDrive/Documents/Desktop/heart_failure dataset.csv')\n",
    "print(heart_failure)"
   ]
  },
  {
   "cell_type": "code",
   "execution_count": 9,
   "id": "a1b903aa",
   "metadata": {},
   "outputs": [
    {
     "data": {
      "text/plain": [
       "Unnamed: 0                                                              44551\n",
       "Unnamed: 0.1                                                            44551\n",
       "age                                                                 18189.334\n",
       "anaemia                     NoNoNoYesYesYesYesYesNoYesYesNoYesYesYesYesYes...\n",
       "creatinine_phosphokinase                                               173970\n",
       "diabetes                    NoNoNoNoYesNoNoYesNoNoNoNoNoNoNoNoNoNoNoYesNoY...\n",
       "ejection_fraction                                                       11387\n",
       "high_blood_pressure         YesNoNoNoNoYesNoNoNoYesYesYesNoYesYesNoNoNoYes...\n",
       "platelets                                                         78744050.75\n",
       "serum_creatinine                                                       416.77\n",
       "serum_sodium                                                            40851\n",
       "sex                         MaleMaleMaleMaleFemaleMaleMaleMaleFemaleMaleMa...\n",
       "smoking                     NoNoYesNoNoYesNoYesNoYesYesYesNoNoNoNoNoNoNoNo...\n",
       "time                                                                    38948\n",
       "DEATH_EVENT                                                                96\n",
       "dtype: object"
      ]
     },
     "execution_count": 9,
     "metadata": {},
     "output_type": "execute_result"
    }
   ],
   "source": [
    "heart_failure.sum()"
   ]
  },
  {
   "cell_type": "code",
   "execution_count": 10,
   "id": "16842b30",
   "metadata": {},
   "outputs": [
    {
     "data": {
      "text/plain": [
       "Unnamed: 0                     149.000000\n",
       "Unnamed: 0.1                   149.000000\n",
       "age                             60.833893\n",
       "creatinine_phosphokinase       581.839465\n",
       "ejection_fraction               38.083612\n",
       "platelets                   263358.029264\n",
       "serum_creatinine                 1.393880\n",
       "serum_sodium                   136.625418\n",
       "time                           130.260870\n",
       "DEATH_EVENT                      0.321070\n",
       "dtype: float64"
      ]
     },
     "execution_count": 10,
     "metadata": {},
     "output_type": "execute_result"
    }
   ],
   "source": [
    "heart_failure.mean()"
   ]
  },
  {
   "cell_type": "code",
   "execution_count": 13,
   "id": "2a4a958a",
   "metadata": {},
   "outputs": [
    {
     "data": {
      "text/html": [
       "<div>\n",
       "<style scoped>\n",
       "    .dataframe tbody tr th:only-of-type {\n",
       "        vertical-align: middle;\n",
       "    }\n",
       "\n",
       "    .dataframe tbody tr th {\n",
       "        vertical-align: top;\n",
       "    }\n",
       "\n",
       "    .dataframe thead th {\n",
       "        text-align: right;\n",
       "    }\n",
       "</style>\n",
       "<table border=\"1\" class=\"dataframe\">\n",
       "  <thead>\n",
       "    <tr style=\"text-align: right;\">\n",
       "      <th></th>\n",
       "      <th>Unnamed: 0</th>\n",
       "      <th>Unnamed: 0.1</th>\n",
       "      <th>age</th>\n",
       "      <th>creatinine_phosphokinase</th>\n",
       "      <th>ejection_fraction</th>\n",
       "      <th>platelets</th>\n",
       "      <th>serum_creatinine</th>\n",
       "      <th>serum_sodium</th>\n",
       "      <th>time</th>\n",
       "      <th>DEATH_EVENT</th>\n",
       "    </tr>\n",
       "  </thead>\n",
       "  <tbody>\n",
       "    <tr>\n",
       "      <th>count</th>\n",
       "      <td>299.000000</td>\n",
       "      <td>299.000000</td>\n",
       "      <td>299.000000</td>\n",
       "      <td>299.000000</td>\n",
       "      <td>299.000000</td>\n",
       "      <td>299.000000</td>\n",
       "      <td>299.00000</td>\n",
       "      <td>299.000000</td>\n",
       "      <td>299.000000</td>\n",
       "      <td>299.00000</td>\n",
       "    </tr>\n",
       "    <tr>\n",
       "      <th>mean</th>\n",
       "      <td>149.000000</td>\n",
       "      <td>149.000000</td>\n",
       "      <td>60.833893</td>\n",
       "      <td>581.839465</td>\n",
       "      <td>38.083612</td>\n",
       "      <td>263358.029264</td>\n",
       "      <td>1.39388</td>\n",
       "      <td>136.625418</td>\n",
       "      <td>130.260870</td>\n",
       "      <td>0.32107</td>\n",
       "    </tr>\n",
       "    <tr>\n",
       "      <th>std</th>\n",
       "      <td>86.458082</td>\n",
       "      <td>86.458082</td>\n",
       "      <td>11.894809</td>\n",
       "      <td>970.287881</td>\n",
       "      <td>11.834841</td>\n",
       "      <td>97804.236869</td>\n",
       "      <td>1.03451</td>\n",
       "      <td>4.412477</td>\n",
       "      <td>77.614208</td>\n",
       "      <td>0.46767</td>\n",
       "    </tr>\n",
       "    <tr>\n",
       "      <th>min</th>\n",
       "      <td>0.000000</td>\n",
       "      <td>0.000000</td>\n",
       "      <td>40.000000</td>\n",
       "      <td>23.000000</td>\n",
       "      <td>14.000000</td>\n",
       "      <td>25100.000000</td>\n",
       "      <td>0.50000</td>\n",
       "      <td>113.000000</td>\n",
       "      <td>4.000000</td>\n",
       "      <td>0.00000</td>\n",
       "    </tr>\n",
       "    <tr>\n",
       "      <th>25%</th>\n",
       "      <td>74.500000</td>\n",
       "      <td>74.500000</td>\n",
       "      <td>51.000000</td>\n",
       "      <td>116.500000</td>\n",
       "      <td>30.000000</td>\n",
       "      <td>212500.000000</td>\n",
       "      <td>0.90000</td>\n",
       "      <td>134.000000</td>\n",
       "      <td>73.000000</td>\n",
       "      <td>0.00000</td>\n",
       "    </tr>\n",
       "    <tr>\n",
       "      <th>50%</th>\n",
       "      <td>149.000000</td>\n",
       "      <td>149.000000</td>\n",
       "      <td>60.000000</td>\n",
       "      <td>250.000000</td>\n",
       "      <td>38.000000</td>\n",
       "      <td>262000.000000</td>\n",
       "      <td>1.10000</td>\n",
       "      <td>137.000000</td>\n",
       "      <td>115.000000</td>\n",
       "      <td>0.00000</td>\n",
       "    </tr>\n",
       "    <tr>\n",
       "      <th>75%</th>\n",
       "      <td>223.500000</td>\n",
       "      <td>223.500000</td>\n",
       "      <td>70.000000</td>\n",
       "      <td>582.000000</td>\n",
       "      <td>45.000000</td>\n",
       "      <td>303500.000000</td>\n",
       "      <td>1.40000</td>\n",
       "      <td>140.000000</td>\n",
       "      <td>203.000000</td>\n",
       "      <td>1.00000</td>\n",
       "    </tr>\n",
       "    <tr>\n",
       "      <th>max</th>\n",
       "      <td>298.000000</td>\n",
       "      <td>298.000000</td>\n",
       "      <td>95.000000</td>\n",
       "      <td>7861.000000</td>\n",
       "      <td>80.000000</td>\n",
       "      <td>850000.000000</td>\n",
       "      <td>9.40000</td>\n",
       "      <td>148.000000</td>\n",
       "      <td>285.000000</td>\n",
       "      <td>1.00000</td>\n",
       "    </tr>\n",
       "  </tbody>\n",
       "</table>\n",
       "</div>"
      ],
      "text/plain": [
       "       Unnamed: 0  Unnamed: 0.1         age  creatinine_phosphokinase  \\\n",
       "count  299.000000    299.000000  299.000000                299.000000   \n",
       "mean   149.000000    149.000000   60.833893                581.839465   \n",
       "std     86.458082     86.458082   11.894809                970.287881   \n",
       "min      0.000000      0.000000   40.000000                 23.000000   \n",
       "25%     74.500000     74.500000   51.000000                116.500000   \n",
       "50%    149.000000    149.000000   60.000000                250.000000   \n",
       "75%    223.500000    223.500000   70.000000                582.000000   \n",
       "max    298.000000    298.000000   95.000000               7861.000000   \n",
       "\n",
       "       ejection_fraction      platelets  serum_creatinine  serum_sodium  \\\n",
       "count         299.000000     299.000000         299.00000    299.000000   \n",
       "mean           38.083612  263358.029264           1.39388    136.625418   \n",
       "std            11.834841   97804.236869           1.03451      4.412477   \n",
       "min            14.000000   25100.000000           0.50000    113.000000   \n",
       "25%            30.000000  212500.000000           0.90000    134.000000   \n",
       "50%            38.000000  262000.000000           1.10000    137.000000   \n",
       "75%            45.000000  303500.000000           1.40000    140.000000   \n",
       "max            80.000000  850000.000000           9.40000    148.000000   \n",
       "\n",
       "             time  DEATH_EVENT  \n",
       "count  299.000000    299.00000  \n",
       "mean   130.260870      0.32107  \n",
       "std     77.614208      0.46767  \n",
       "min      4.000000      0.00000  \n",
       "25%     73.000000      0.00000  \n",
       "50%    115.000000      0.00000  \n",
       "75%    203.000000      1.00000  \n",
       "max    285.000000      1.00000  "
      ]
     },
     "execution_count": 13,
     "metadata": {},
     "output_type": "execute_result"
    }
   ],
   "source": [
    "heart_failure.describe()"
   ]
  },
  {
   "cell_type": "code",
   "execution_count": 14,
   "id": "8a69c2a2",
   "metadata": {},
   "outputs": [
    {
     "data": {
      "text/plain": [
       "Unnamed: 0                  299\n",
       "Unnamed: 0.1                299\n",
       "age                         299\n",
       "anaemia                     299\n",
       "creatinine_phosphokinase    299\n",
       "diabetes                    299\n",
       "ejection_fraction           299\n",
       "high_blood_pressure         299\n",
       "platelets                   299\n",
       "serum_creatinine            299\n",
       "serum_sodium                299\n",
       "sex                         299\n",
       "smoking                     299\n",
       "time                        299\n",
       "DEATH_EVENT                 299\n",
       "dtype: int64"
      ]
     },
     "execution_count": 14,
     "metadata": {},
     "output_type": "execute_result"
    }
   ],
   "source": [
    "heart_failure.count()"
   ]
  },
  {
   "cell_type": "code",
   "execution_count": 16,
   "id": "bb6414ee",
   "metadata": {},
   "outputs": [
    {
     "name": "stdout",
     "output_type": "stream",
     "text": [
      "<class 'pandas.core.frame.DataFrame'>\n",
      "RangeIndex: 299 entries, 0 to 298\n",
      "Data columns (total 15 columns):\n",
      " #   Column                    Non-Null Count  Dtype  \n",
      "---  ------                    --------------  -----  \n",
      " 0   Unnamed: 0                299 non-null    int64  \n",
      " 1   Unnamed: 0.1              299 non-null    int64  \n",
      " 2   age                       299 non-null    float64\n",
      " 3   anaemia                   299 non-null    object \n",
      " 4   creatinine_phosphokinase  299 non-null    int64  \n",
      " 5   diabetes                  299 non-null    object \n",
      " 6   ejection_fraction         299 non-null    int64  \n",
      " 7   high_blood_pressure       299 non-null    object \n",
      " 8   platelets                 299 non-null    float64\n",
      " 9   serum_creatinine          299 non-null    float64\n",
      " 10  serum_sodium              299 non-null    int64  \n",
      " 11  sex                       299 non-null    object \n",
      " 12  smoking                   299 non-null    object \n",
      " 13  time                      299 non-null    int64  \n",
      " 14  DEATH_EVENT               299 non-null    int64  \n",
      "dtypes: float64(3), int64(7), object(5)\n",
      "memory usage: 35.2+ KB\n"
     ]
    }
   ],
   "source": [
    "heart_failure.info()"
   ]
  },
  {
   "cell_type": "code",
   "execution_count": 18,
   "id": "c12c0aec",
   "metadata": {},
   "outputs": [
    {
     "data": {
      "text/html": [
       "<div>\n",
       "<style scoped>\n",
       "    .dataframe tbody tr th:only-of-type {\n",
       "        vertical-align: middle;\n",
       "    }\n",
       "\n",
       "    .dataframe tbody tr th {\n",
       "        vertical-align: top;\n",
       "    }\n",
       "\n",
       "    .dataframe thead th {\n",
       "        text-align: right;\n",
       "    }\n",
       "</style>\n",
       "<table border=\"1\" class=\"dataframe\">\n",
       "  <thead>\n",
       "    <tr style=\"text-align: right;\">\n",
       "      <th></th>\n",
       "      <th>Unnamed: 0</th>\n",
       "      <th>Unnamed: 0.1</th>\n",
       "      <th>age</th>\n",
       "      <th>anaemia</th>\n",
       "      <th>creatinine_phosphokinase</th>\n",
       "      <th>diabetes</th>\n",
       "      <th>ejection_fraction</th>\n",
       "      <th>high_blood_pressure</th>\n",
       "      <th>platelets</th>\n",
       "      <th>serum_creatinine</th>\n",
       "      <th>serum_sodium</th>\n",
       "      <th>sex</th>\n",
       "      <th>smoking</th>\n",
       "      <th>time</th>\n",
       "      <th>DEATH_EVENT</th>\n",
       "    </tr>\n",
       "  </thead>\n",
       "  <tbody>\n",
       "    <tr>\n",
       "      <th>0</th>\n",
       "      <td>0</td>\n",
       "      <td>0</td>\n",
       "      <td>75.0</td>\n",
       "      <td>No</td>\n",
       "      <td>582</td>\n",
       "      <td>No</td>\n",
       "      <td>20</td>\n",
       "      <td>Yes</td>\n",
       "      <td>265000.00</td>\n",
       "      <td>1.9</td>\n",
       "      <td>130</td>\n",
       "      <td>Male</td>\n",
       "      <td>No</td>\n",
       "      <td>4</td>\n",
       "      <td>1</td>\n",
       "    </tr>\n",
       "    <tr>\n",
       "      <th>1</th>\n",
       "      <td>1</td>\n",
       "      <td>1</td>\n",
       "      <td>55.0</td>\n",
       "      <td>No</td>\n",
       "      <td>7861</td>\n",
       "      <td>No</td>\n",
       "      <td>38</td>\n",
       "      <td>No</td>\n",
       "      <td>263358.03</td>\n",
       "      <td>1.1</td>\n",
       "      <td>136</td>\n",
       "      <td>Male</td>\n",
       "      <td>No</td>\n",
       "      <td>6</td>\n",
       "      <td>1</td>\n",
       "    </tr>\n",
       "    <tr>\n",
       "      <th>2</th>\n",
       "      <td>2</td>\n",
       "      <td>2</td>\n",
       "      <td>65.0</td>\n",
       "      <td>No</td>\n",
       "      <td>146</td>\n",
       "      <td>No</td>\n",
       "      <td>20</td>\n",
       "      <td>No</td>\n",
       "      <td>162000.00</td>\n",
       "      <td>1.3</td>\n",
       "      <td>129</td>\n",
       "      <td>Male</td>\n",
       "      <td>Yes</td>\n",
       "      <td>7</td>\n",
       "      <td>1</td>\n",
       "    </tr>\n",
       "    <tr>\n",
       "      <th>3</th>\n",
       "      <td>3</td>\n",
       "      <td>3</td>\n",
       "      <td>50.0</td>\n",
       "      <td>Yes</td>\n",
       "      <td>111</td>\n",
       "      <td>No</td>\n",
       "      <td>20</td>\n",
       "      <td>No</td>\n",
       "      <td>210000.00</td>\n",
       "      <td>1.9</td>\n",
       "      <td>137</td>\n",
       "      <td>Male</td>\n",
       "      <td>No</td>\n",
       "      <td>7</td>\n",
       "      <td>1</td>\n",
       "    </tr>\n",
       "    <tr>\n",
       "      <th>4</th>\n",
       "      <td>4</td>\n",
       "      <td>4</td>\n",
       "      <td>65.0</td>\n",
       "      <td>Yes</td>\n",
       "      <td>160</td>\n",
       "      <td>Yes</td>\n",
       "      <td>20</td>\n",
       "      <td>No</td>\n",
       "      <td>327000.00</td>\n",
       "      <td>2.7</td>\n",
       "      <td>116</td>\n",
       "      <td>Female</td>\n",
       "      <td>No</td>\n",
       "      <td>8</td>\n",
       "      <td>1</td>\n",
       "    </tr>\n",
       "  </tbody>\n",
       "</table>\n",
       "</div>"
      ],
      "text/plain": [
       "   Unnamed: 0  Unnamed: 0.1   age anaemia  creatinine_phosphokinase diabetes  \\\n",
       "0           0             0  75.0      No                       582       No   \n",
       "1           1             1  55.0      No                      7861       No   \n",
       "2           2             2  65.0      No                       146       No   \n",
       "3           3             3  50.0     Yes                       111       No   \n",
       "4           4             4  65.0     Yes                       160      Yes   \n",
       "\n",
       "   ejection_fraction high_blood_pressure  platelets  serum_creatinine  \\\n",
       "0                 20                 Yes  265000.00               1.9   \n",
       "1                 38                  No  263358.03               1.1   \n",
       "2                 20                  No  162000.00               1.3   \n",
       "3                 20                  No  210000.00               1.9   \n",
       "4                 20                  No  327000.00               2.7   \n",
       "\n",
       "   serum_sodium     sex smoking  time  DEATH_EVENT  \n",
       "0           130    Male      No     4            1  \n",
       "1           136    Male      No     6            1  \n",
       "2           129    Male     Yes     7            1  \n",
       "3           137    Male      No     7            1  \n",
       "4           116  Female      No     8            1  "
      ]
     },
     "execution_count": 18,
     "metadata": {},
     "output_type": "execute_result"
    }
   ],
   "source": [
    "heart_failure.head(5)"
   ]
  },
  {
   "cell_type": "code",
   "execution_count": 19,
   "id": "c40ba89b",
   "metadata": {},
   "outputs": [
    {
     "data": {
      "text/html": [
       "<div>\n",
       "<style scoped>\n",
       "    .dataframe tbody tr th:only-of-type {\n",
       "        vertical-align: middle;\n",
       "    }\n",
       "\n",
       "    .dataframe tbody tr th {\n",
       "        vertical-align: top;\n",
       "    }\n",
       "\n",
       "    .dataframe thead th {\n",
       "        text-align: right;\n",
       "    }\n",
       "</style>\n",
       "<table border=\"1\" class=\"dataframe\">\n",
       "  <thead>\n",
       "    <tr style=\"text-align: right;\">\n",
       "      <th></th>\n",
       "      <th>Unnamed: 0</th>\n",
       "      <th>Unnamed: 0.1</th>\n",
       "      <th>age</th>\n",
       "      <th>anaemia</th>\n",
       "      <th>creatinine_phosphokinase</th>\n",
       "      <th>diabetes</th>\n",
       "      <th>ejection_fraction</th>\n",
       "      <th>high_blood_pressure</th>\n",
       "      <th>platelets</th>\n",
       "      <th>serum_creatinine</th>\n",
       "      <th>serum_sodium</th>\n",
       "      <th>sex</th>\n",
       "      <th>smoking</th>\n",
       "      <th>time</th>\n",
       "      <th>DEATH_EVENT</th>\n",
       "    </tr>\n",
       "  </thead>\n",
       "  <tbody>\n",
       "    <tr>\n",
       "      <th>294</th>\n",
       "      <td>294</td>\n",
       "      <td>294</td>\n",
       "      <td>62.0</td>\n",
       "      <td>No</td>\n",
       "      <td>61</td>\n",
       "      <td>Yes</td>\n",
       "      <td>38</td>\n",
       "      <td>Yes</td>\n",
       "      <td>155000.0</td>\n",
       "      <td>1.1</td>\n",
       "      <td>143</td>\n",
       "      <td>Male</td>\n",
       "      <td>Yes</td>\n",
       "      <td>270</td>\n",
       "      <td>0</td>\n",
       "    </tr>\n",
       "    <tr>\n",
       "      <th>295</th>\n",
       "      <td>295</td>\n",
       "      <td>295</td>\n",
       "      <td>55.0</td>\n",
       "      <td>No</td>\n",
       "      <td>1820</td>\n",
       "      <td>No</td>\n",
       "      <td>38</td>\n",
       "      <td>No</td>\n",
       "      <td>270000.0</td>\n",
       "      <td>1.2</td>\n",
       "      <td>139</td>\n",
       "      <td>Female</td>\n",
       "      <td>No</td>\n",
       "      <td>271</td>\n",
       "      <td>0</td>\n",
       "    </tr>\n",
       "    <tr>\n",
       "      <th>296</th>\n",
       "      <td>296</td>\n",
       "      <td>296</td>\n",
       "      <td>45.0</td>\n",
       "      <td>No</td>\n",
       "      <td>2060</td>\n",
       "      <td>Yes</td>\n",
       "      <td>60</td>\n",
       "      <td>No</td>\n",
       "      <td>742000.0</td>\n",
       "      <td>0.8</td>\n",
       "      <td>138</td>\n",
       "      <td>Female</td>\n",
       "      <td>No</td>\n",
       "      <td>278</td>\n",
       "      <td>0</td>\n",
       "    </tr>\n",
       "    <tr>\n",
       "      <th>297</th>\n",
       "      <td>297</td>\n",
       "      <td>297</td>\n",
       "      <td>45.0</td>\n",
       "      <td>No</td>\n",
       "      <td>2413</td>\n",
       "      <td>No</td>\n",
       "      <td>38</td>\n",
       "      <td>No</td>\n",
       "      <td>140000.0</td>\n",
       "      <td>1.4</td>\n",
       "      <td>140</td>\n",
       "      <td>Male</td>\n",
       "      <td>Yes</td>\n",
       "      <td>280</td>\n",
       "      <td>0</td>\n",
       "    </tr>\n",
       "    <tr>\n",
       "      <th>298</th>\n",
       "      <td>298</td>\n",
       "      <td>298</td>\n",
       "      <td>50.0</td>\n",
       "      <td>No</td>\n",
       "      <td>196</td>\n",
       "      <td>No</td>\n",
       "      <td>45</td>\n",
       "      <td>No</td>\n",
       "      <td>395000.0</td>\n",
       "      <td>1.6</td>\n",
       "      <td>136</td>\n",
       "      <td>Male</td>\n",
       "      <td>Yes</td>\n",
       "      <td>285</td>\n",
       "      <td>0</td>\n",
       "    </tr>\n",
       "  </tbody>\n",
       "</table>\n",
       "</div>"
      ],
      "text/plain": [
       "     Unnamed: 0  Unnamed: 0.1   age anaemia  creatinine_phosphokinase  \\\n",
       "294         294           294  62.0      No                        61   \n",
       "295         295           295  55.0      No                      1820   \n",
       "296         296           296  45.0      No                      2060   \n",
       "297         297           297  45.0      No                      2413   \n",
       "298         298           298  50.0      No                       196   \n",
       "\n",
       "    diabetes  ejection_fraction high_blood_pressure  platelets  \\\n",
       "294      Yes                 38                 Yes   155000.0   \n",
       "295       No                 38                  No   270000.0   \n",
       "296      Yes                 60                  No   742000.0   \n",
       "297       No                 38                  No   140000.0   \n",
       "298       No                 45                  No   395000.0   \n",
       "\n",
       "     serum_creatinine  serum_sodium     sex smoking  time  DEATH_EVENT  \n",
       "294               1.1           143    Male     Yes   270            0  \n",
       "295               1.2           139  Female      No   271            0  \n",
       "296               0.8           138  Female      No   278            0  \n",
       "297               1.4           140    Male     Yes   280            0  \n",
       "298               1.6           136    Male     Yes   285            0  "
      ]
     },
     "execution_count": 19,
     "metadata": {},
     "output_type": "execute_result"
    }
   ],
   "source": [
    "heart_failure.tail(5)"
   ]
  },
  {
   "cell_type": "code",
   "execution_count": 20,
   "id": "d44444a0",
   "metadata": {},
   "outputs": [
    {
     "data": {
      "text/plain": [
       "Unnamed: 0                     149.000000\n",
       "Unnamed: 0.1                   149.000000\n",
       "age                             60.833893\n",
       "creatinine_phosphokinase       581.839465\n",
       "ejection_fraction               38.083612\n",
       "platelets                   263358.029264\n",
       "serum_creatinine                 1.393880\n",
       "serum_sodium                   136.625418\n",
       "time                           130.260870\n",
       "DEATH_EVENT                      0.321070\n",
       "dtype: float64"
      ]
     },
     "execution_count": 20,
     "metadata": {},
     "output_type": "execute_result"
    }
   ],
   "source": [
    "heart_failure.mean()"
   ]
  },
  {
   "cell_type": "code",
   "execution_count": 21,
   "id": "539a5d81",
   "metadata": {},
   "outputs": [
    {
     "data": {
      "text/plain": [
       "Unnamed: 0                     149.0\n",
       "Unnamed: 0.1                   149.0\n",
       "age                             60.0\n",
       "creatinine_phosphokinase       250.0\n",
       "ejection_fraction               38.0\n",
       "platelets                   262000.0\n",
       "serum_creatinine                 1.1\n",
       "serum_sodium                   137.0\n",
       "time                           115.0\n",
       "DEATH_EVENT                      0.0\n",
       "dtype: float64"
      ]
     },
     "execution_count": 21,
     "metadata": {},
     "output_type": "execute_result"
    }
   ],
   "source": [
    "heart_failure.median()"
   ]
  },
  {
   "cell_type": "code",
   "execution_count": 22,
   "id": "c1da5975",
   "metadata": {},
   "outputs": [
    {
     "data": {
      "text/plain": [
       "Unnamed: 0                        0\n",
       "Unnamed: 0.1                      0\n",
       "age                            40.0\n",
       "anaemia                          No\n",
       "creatinine_phosphokinase         23\n",
       "diabetes                         No\n",
       "ejection_fraction                14\n",
       "high_blood_pressure              No\n",
       "platelets                   25100.0\n",
       "serum_creatinine                0.5\n",
       "serum_sodium                    113\n",
       "sex                          Female\n",
       "smoking                          No\n",
       "time                              4\n",
       "DEATH_EVENT                       0\n",
       "dtype: object"
      ]
     },
     "execution_count": 22,
     "metadata": {},
     "output_type": "execute_result"
    }
   ],
   "source": [
    "heart_failure.min()"
   ]
  },
  {
   "cell_type": "code",
   "execution_count": 23,
   "id": "9e283ede",
   "metadata": {},
   "outputs": [
    {
     "data": {
      "text/plain": [
       "Unnamed: 0                       298\n",
       "Unnamed: 0.1                     298\n",
       "age                             95.0\n",
       "anaemia                          Yes\n",
       "creatinine_phosphokinase        7861\n",
       "diabetes                         Yes\n",
       "ejection_fraction                 80\n",
       "high_blood_pressure              Yes\n",
       "platelets                   850000.0\n",
       "serum_creatinine                 9.4\n",
       "serum_sodium                     148\n",
       "sex                             Male\n",
       "smoking                          Yes\n",
       "time                             285\n",
       "DEATH_EVENT                        1\n",
       "dtype: object"
      ]
     },
     "execution_count": 23,
     "metadata": {},
     "output_type": "execute_result"
    }
   ],
   "source": [
    "heart_failure.max()"
   ]
  },
  {
   "cell_type": "code",
   "execution_count": 24,
   "id": "e65b3892",
   "metadata": {},
   "outputs": [
    {
     "data": {
      "text/plain": [
       "Unnamed: 0                     86.458082\n",
       "Unnamed: 0.1                   86.458082\n",
       "age                            11.894809\n",
       "creatinine_phosphokinase      970.287881\n",
       "ejection_fraction              11.834841\n",
       "platelets                   97804.236869\n",
       "serum_creatinine                1.034510\n",
       "serum_sodium                    4.412477\n",
       "time                           77.614208\n",
       "DEATH_EVENT                     0.467670\n",
       "dtype: float64"
      ]
     },
     "execution_count": 24,
     "metadata": {},
     "output_type": "execute_result"
    }
   ],
   "source": [
    "heart_failure.std()"
   ]
  },
  {
   "cell_type": "code",
   "execution_count": 25,
   "id": "20686587",
   "metadata": {},
   "outputs": [
    {
     "data": {
      "text/plain": [
       "Unnamed: 0                  7.475000e+03\n",
       "Unnamed: 0.1                7.475000e+03\n",
       "age                         1.414865e+02\n",
       "creatinine_phosphokinase    9.414586e+05\n",
       "ejection_fraction           1.400635e+02\n",
       "platelets                   9.565669e+09\n",
       "serum_creatinine            1.070211e+00\n",
       "serum_sodium                1.946996e+01\n",
       "time                        6.023965e+03\n",
       "DEATH_EVENT                 2.187156e-01\n",
       "dtype: float64"
      ]
     },
     "execution_count": 25,
     "metadata": {},
     "output_type": "execute_result"
    }
   ],
   "source": [
    "heart_failure.var()"
   ]
  },
  {
   "cell_type": "code",
   "execution_count": 26,
   "id": "9cf772b9",
   "metadata": {},
   "outputs": [
    {
     "data": {
      "text/plain": [
       "Unnamed: 0                     74.749164\n",
       "Unnamed: 0.1                   74.749164\n",
       "age                             9.527923\n",
       "creatinine_phosphokinase      513.142605\n",
       "ejection_fraction               8.951287\n",
       "platelets                   66909.447618\n",
       "serum_creatinine                0.574821\n",
       "serum_sodium                    3.210255\n",
       "time                           68.115748\n",
       "DEATH_EVENT                     0.435968\n",
       "dtype: float64"
      ]
     },
     "execution_count": 26,
     "metadata": {},
     "output_type": "execute_result"
    }
   ],
   "source": [
    "heart_failure.mad()"
   ]
  },
  {
   "cell_type": "code",
   "execution_count": 28,
   "id": "2efaf524",
   "metadata": {},
   "outputs": [
    {
     "data": {
      "text/plain": [
       "Unnamed: 0                                                              44551\n",
       "Unnamed: 0.1                                                            44551\n",
       "age                                                                 18189.334\n",
       "anaemia                     NoNoNoYesYesYesYesYesNoYesYesNoYesYesYesYesYes...\n",
       "creatinine_phosphokinase                                               173970\n",
       "diabetes                    NoNoNoNoYesNoNoYesNoNoNoNoNoNoNoNoNoNoNoYesNoY...\n",
       "ejection_fraction                                                       11387\n",
       "high_blood_pressure         YesNoNoNoNoYesNoNoNoYesYesYesNoYesYesNoNoNoYes...\n",
       "platelets                                                         78744050.75\n",
       "serum_creatinine                                                       416.77\n",
       "serum_sodium                                                            40851\n",
       "sex                         MaleMaleMaleMaleFemaleMaleMaleMaleFemaleMaleMa...\n",
       "smoking                     NoNoYesNoNoYesNoYesNoYesYesYesNoNoNoNoNoNoNoNo...\n",
       "time                                                                    38948\n",
       "DEATH_EVENT                                                                96\n",
       "dtype: object"
      ]
     },
     "execution_count": 28,
     "metadata": {},
     "output_type": "execute_result"
    }
   ],
   "source": [
    "heart_failure.sum()"
   ]
  },
  {
   "cell_type": "raw",
   "id": "fc0253af",
   "metadata": {},
   "source": []
  },
  {
   "cell_type": "code",
   "execution_count": 29,
   "id": "0c399e3a",
   "metadata": {},
   "outputs": [
    {
     "data": {
      "text/plain": [
       "Unnamed: 0                  0.000000e+00\n",
       "Unnamed: 0.1                0.000000e+00\n",
       "age                                  inf\n",
       "creatinine_phosphokinase    0.000000e+00\n",
       "ejection_fraction           0.000000e+00\n",
       "platelets                            inf\n",
       "serum_creatinine            6.127969e+25\n",
       "serum_sodium                0.000000e+00\n",
       "time                        0.000000e+00\n",
       "DEATH_EVENT                 0.000000e+00\n",
       "dtype: float64"
      ]
     },
     "execution_count": 29,
     "metadata": {},
     "output_type": "execute_result"
    }
   ],
   "source": [
    "heart_failure.prod()"
   ]
  },
  {
   "cell_type": "code",
   "execution_count": 30,
   "id": "22791e3c",
   "metadata": {},
   "outputs": [
    {
     "data": {
      "text/plain": [
       "60.000    33\n",
       "50.000    27\n",
       "65.000    26\n",
       "70.000    25\n",
       "45.000    19\n",
       "55.000    17\n",
       "75.000    11\n",
       "58.000    10\n",
       "53.000    10\n",
       "63.000     8\n",
       "42.000     7\n",
       "72.000     7\n",
       "40.000     7\n",
       "80.000     7\n",
       "85.000     6\n",
       "62.000     5\n",
       "52.000     5\n",
       "68.000     5\n",
       "61.000     4\n",
       "73.000     4\n",
       "59.000     4\n",
       "49.000     4\n",
       "51.000     4\n",
       "82.000     3\n",
       "69.000     3\n",
       "90.000     3\n",
       "46.000     3\n",
       "64.000     3\n",
       "48.000     2\n",
       "66.000     2\n",
       "54.000     2\n",
       "95.000     2\n",
       "77.000     2\n",
       "57.000     2\n",
       "78.000     2\n",
       "60.667     2\n",
       "44.000     2\n",
       "67.000     2\n",
       "41.000     1\n",
       "79.000     1\n",
       "81.000     1\n",
       "86.000     1\n",
       "43.000     1\n",
       "47.000     1\n",
       "87.000     1\n",
       "56.000     1\n",
       "94.000     1\n",
       "Name: age, dtype: int64"
      ]
     },
     "execution_count": 30,
     "metadata": {},
     "output_type": "execute_result"
    }
   ],
   "source": [
    "heart_failure['age'].value_counts()"
   ]
  },
  {
   "cell_type": "code",
   "execution_count": 35,
   "id": "8c726ee4",
   "metadata": {},
   "outputs": [
    {
     "data": {
      "text/plain": [
       "<pandas.core.groupby.generic.DataFrameGroupBy object at 0x0000021227536130>"
      ]
     },
     "execution_count": 35,
     "metadata": {},
     "output_type": "execute_result"
    }
   ],
   "source": [
    "heart_failure.groupby('age')"
   ]
  },
  {
   "cell_type": "code",
   "execution_count": 37,
   "id": "0341e933",
   "metadata": {},
   "outputs": [
    {
     "data": {
      "text/plain": [
       "No     203\n",
       "Yes     96\n",
       "Name: smoking, dtype: int64"
      ]
     },
     "execution_count": 37,
     "metadata": {},
     "output_type": "execute_result"
    }
   ],
   "source": [
    "heart_failure['smoking'].value_counts()"
   ]
  },
  {
   "cell_type": "code",
   "execution_count": 41,
   "id": "5b28775d",
   "metadata": {},
   "outputs": [
    {
     "data": {
      "text/plain": [
       "18189.334"
      ]
     },
     "execution_count": 41,
     "metadata": {},
     "output_type": "execute_result"
    }
   ],
   "source": [
    "heart_failure['age'].sum()"
   ]
  },
  {
   "cell_type": "code",
   "execution_count": 42,
   "id": "e918123a",
   "metadata": {},
   "outputs": [
    {
     "data": {
      "text/plain": [
       "60.83389297658862"
      ]
     },
     "execution_count": 42,
     "metadata": {},
     "output_type": "execute_result"
    }
   ],
   "source": [
    "heart_failure['age'].mean()"
   ]
  },
  {
   "cell_type": "code",
   "execution_count": 43,
   "id": "6a382ecb",
   "metadata": {},
   "outputs": [
    {
     "data": {
      "text/html": [
       "<div>\n",
       "<style scoped>\n",
       "    .dataframe tbody tr th:only-of-type {\n",
       "        vertical-align: middle;\n",
       "    }\n",
       "\n",
       "    .dataframe tbody tr th {\n",
       "        vertical-align: top;\n",
       "    }\n",
       "\n",
       "    .dataframe thead th {\n",
       "        text-align: right;\n",
       "    }\n",
       "</style>\n",
       "<table border=\"1\" class=\"dataframe\">\n",
       "  <thead>\n",
       "    <tr style=\"text-align: right;\">\n",
       "      <th></th>\n",
       "      <th>Unnamed: 0</th>\n",
       "      <th>Unnamed: 0.1</th>\n",
       "      <th>age</th>\n",
       "      <th>creatinine_phosphokinase</th>\n",
       "      <th>ejection_fraction</th>\n",
       "      <th>platelets</th>\n",
       "      <th>serum_creatinine</th>\n",
       "      <th>serum_sodium</th>\n",
       "      <th>time</th>\n",
       "      <th>DEATH_EVENT</th>\n",
       "    </tr>\n",
       "  </thead>\n",
       "  <tbody>\n",
       "    <tr>\n",
       "      <th>count</th>\n",
       "      <td>299.000000</td>\n",
       "      <td>299.000000</td>\n",
       "      <td>299.000000</td>\n",
       "      <td>299.000000</td>\n",
       "      <td>299.000000</td>\n",
       "      <td>299.000000</td>\n",
       "      <td>299.00000</td>\n",
       "      <td>299.000000</td>\n",
       "      <td>299.000000</td>\n",
       "      <td>299.00000</td>\n",
       "    </tr>\n",
       "    <tr>\n",
       "      <th>mean</th>\n",
       "      <td>149.000000</td>\n",
       "      <td>149.000000</td>\n",
       "      <td>60.833893</td>\n",
       "      <td>581.839465</td>\n",
       "      <td>38.083612</td>\n",
       "      <td>263358.029264</td>\n",
       "      <td>1.39388</td>\n",
       "      <td>136.625418</td>\n",
       "      <td>130.260870</td>\n",
       "      <td>0.32107</td>\n",
       "    </tr>\n",
       "    <tr>\n",
       "      <th>std</th>\n",
       "      <td>86.458082</td>\n",
       "      <td>86.458082</td>\n",
       "      <td>11.894809</td>\n",
       "      <td>970.287881</td>\n",
       "      <td>11.834841</td>\n",
       "      <td>97804.236869</td>\n",
       "      <td>1.03451</td>\n",
       "      <td>4.412477</td>\n",
       "      <td>77.614208</td>\n",
       "      <td>0.46767</td>\n",
       "    </tr>\n",
       "    <tr>\n",
       "      <th>min</th>\n",
       "      <td>0.000000</td>\n",
       "      <td>0.000000</td>\n",
       "      <td>40.000000</td>\n",
       "      <td>23.000000</td>\n",
       "      <td>14.000000</td>\n",
       "      <td>25100.000000</td>\n",
       "      <td>0.50000</td>\n",
       "      <td>113.000000</td>\n",
       "      <td>4.000000</td>\n",
       "      <td>0.00000</td>\n",
       "    </tr>\n",
       "    <tr>\n",
       "      <th>25%</th>\n",
       "      <td>74.500000</td>\n",
       "      <td>74.500000</td>\n",
       "      <td>51.000000</td>\n",
       "      <td>116.500000</td>\n",
       "      <td>30.000000</td>\n",
       "      <td>212500.000000</td>\n",
       "      <td>0.90000</td>\n",
       "      <td>134.000000</td>\n",
       "      <td>73.000000</td>\n",
       "      <td>0.00000</td>\n",
       "    </tr>\n",
       "    <tr>\n",
       "      <th>50%</th>\n",
       "      <td>149.000000</td>\n",
       "      <td>149.000000</td>\n",
       "      <td>60.000000</td>\n",
       "      <td>250.000000</td>\n",
       "      <td>38.000000</td>\n",
       "      <td>262000.000000</td>\n",
       "      <td>1.10000</td>\n",
       "      <td>137.000000</td>\n",
       "      <td>115.000000</td>\n",
       "      <td>0.00000</td>\n",
       "    </tr>\n",
       "    <tr>\n",
       "      <th>75%</th>\n",
       "      <td>223.500000</td>\n",
       "      <td>223.500000</td>\n",
       "      <td>70.000000</td>\n",
       "      <td>582.000000</td>\n",
       "      <td>45.000000</td>\n",
       "      <td>303500.000000</td>\n",
       "      <td>1.40000</td>\n",
       "      <td>140.000000</td>\n",
       "      <td>203.000000</td>\n",
       "      <td>1.00000</td>\n",
       "    </tr>\n",
       "    <tr>\n",
       "      <th>max</th>\n",
       "      <td>298.000000</td>\n",
       "      <td>298.000000</td>\n",
       "      <td>95.000000</td>\n",
       "      <td>7861.000000</td>\n",
       "      <td>80.000000</td>\n",
       "      <td>850000.000000</td>\n",
       "      <td>9.40000</td>\n",
       "      <td>148.000000</td>\n",
       "      <td>285.000000</td>\n",
       "      <td>1.00000</td>\n",
       "    </tr>\n",
       "  </tbody>\n",
       "</table>\n",
       "</div>"
      ],
      "text/plain": [
       "       Unnamed: 0  Unnamed: 0.1         age  creatinine_phosphokinase  \\\n",
       "count  299.000000    299.000000  299.000000                299.000000   \n",
       "mean   149.000000    149.000000   60.833893                581.839465   \n",
       "std     86.458082     86.458082   11.894809                970.287881   \n",
       "min      0.000000      0.000000   40.000000                 23.000000   \n",
       "25%     74.500000     74.500000   51.000000                116.500000   \n",
       "50%    149.000000    149.000000   60.000000                250.000000   \n",
       "75%    223.500000    223.500000   70.000000                582.000000   \n",
       "max    298.000000    298.000000   95.000000               7861.000000   \n",
       "\n",
       "       ejection_fraction      platelets  serum_creatinine  serum_sodium  \\\n",
       "count         299.000000     299.000000         299.00000    299.000000   \n",
       "mean           38.083612  263358.029264           1.39388    136.625418   \n",
       "std            11.834841   97804.236869           1.03451      4.412477   \n",
       "min            14.000000   25100.000000           0.50000    113.000000   \n",
       "25%            30.000000  212500.000000           0.90000    134.000000   \n",
       "50%            38.000000  262000.000000           1.10000    137.000000   \n",
       "75%            45.000000  303500.000000           1.40000    140.000000   \n",
       "max            80.000000  850000.000000           9.40000    148.000000   \n",
       "\n",
       "             time  DEATH_EVENT  \n",
       "count  299.000000    299.00000  \n",
       "mean   130.260870      0.32107  \n",
       "std     77.614208      0.46767  \n",
       "min      4.000000      0.00000  \n",
       "25%     73.000000      0.00000  \n",
       "50%    115.000000      0.00000  \n",
       "75%    203.000000      1.00000  \n",
       "max    285.000000      1.00000  "
      ]
     },
     "execution_count": 43,
     "metadata": {},
     "output_type": "execute_result"
    }
   ],
   "source": [
    "heart_failure.dropna().describe()"
   ]
  },
  {
   "cell_type": "code",
   "execution_count": null,
   "id": "0310571e",
   "metadata": {},
   "outputs": [],
   "source": []
  }
 ],
 "metadata": {
  "kernelspec": {
   "display_name": "Python 3",
   "language": "python",
   "name": "python3"
  },
  "language_info": {
   "codemirror_mode": {
    "name": "ipython",
    "version": 3
   },
   "file_extension": ".py",
   "mimetype": "text/x-python",
   "name": "python",
   "nbconvert_exporter": "python",
   "pygments_lexer": "ipython3",
   "version": "3.8.8"
  }
 },
 "nbformat": 4,
 "nbformat_minor": 5
}
